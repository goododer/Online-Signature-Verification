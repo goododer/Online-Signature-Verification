{
 "cells": [
  {
   "cell_type": "code",
   "execution_count": 8,
   "id": "313e5f55",
   "metadata": {},
   "outputs": [],
   "source": [
    "read_path = '/Users/zhanglingfeng/Documents/online_signature/datasets/svc2004/Task1/'"
   ]
  },
  {
   "cell_type": "code",
   "execution_count": 45,
   "id": "87f951d9",
   "metadata": {},
   "outputs": [],
   "source": [
    "import numpy as np\n",
    "import random\n",
    "import os\n",
    "\n",
    "# Specify the indexes of training data randomly.\n",
    "# Then, the rest are testing data.\n",
    "write_path = os.getcwd()+'/datasets/SVC2004/task1/'\n",
    "read_path = '/Users/zhanglingfeng/Documents/online_signature/datasets/svc2004/Task1/'\n",
    "\n",
    "for user in range(1,41,1):\n",
    "    genuine_indexes = random.sample(population = range(1,21,1), k=5) # SVC2004 starts at index 1.\n",
    "    forgery_indexes = random.sample(population =range(21,41,1), k=5)\n",
    "    train_indexes = genuine_indexes + forgery_indexes\n",
    "    test_indexes = list(range(1,41,1))\n",
    "    for i in train_indexes:\n",
    "        test_indexes.remove(i)\n",
    "    \n",
    "    for i in train_indexes:\n",
    "        file_name = 'U'+str(user)+'S'+str(i)\n",
    "        \n",
    "        # read file\n",
    "        data = np.loadtxt(read_path+file_name+'.TXT', skiprows=1).transpose() # The first row is # of datapoints in SVC2004\n",
    "        \n",
    "        # save file\n",
    "        file_to_save = open(write_path+'training/'+file_name,'wb')\n",
    "        np.save(file_to_save, data)\n",
    "        file_to_save.close()\n",
    "        \n",
    "    for i in test_indexes:\n",
    "        file_name = 'U'+str(user)+'S'+str(i)\n",
    "        \n",
    "        # read file\n",
    "        data = np.loadtxt(read_path+file_name+'.TXT', skiprows=1).transpose() # The first row is # of datapoints in SVC2004\n",
    "        \n",
    "        # save file\n",
    "        file_to_save = open(write_path+'testing/'+file_name,'wb')\n",
    "        np.save(file_to_save, data)\n",
    "        file_to_save.close()"
   ]
  }
 ],
 "metadata": {
  "kernelspec": {
   "display_name": "Python 3 (ipykernel)",
   "language": "python",
   "name": "python3"
  },
  "language_info": {
   "codemirror_mode": {
    "name": "ipython",
    "version": 3
   },
   "file_extension": ".py",
   "mimetype": "text/x-python",
   "name": "python",
   "nbconvert_exporter": "python",
   "pygments_lexer": "ipython3",
   "version": "3.8.5"
  }
 },
 "nbformat": 4,
 "nbformat_minor": 5
}
